{
 "cells": [
  {
   "cell_type": "code",
   "execution_count": 1,
   "metadata": {
    "tags": [
     "second_tag"
    ]
   },
   "outputs": [],
   "source": [
    "NAME=\"Dan\"\n",
    "\n",
    "DATA_DIR = \"data\"\n",
    "\n",
    "SEED = 0\n",
    "\n",
    "# To use other than 50 or 75, you should provide location coordinate as well. See next cells\n",
    "NUM_WAREHOUSES = 50\n",
    "NUM_ORDER_LOCATIONS = 50\n",
    "NUM_SKUS = 10\n",
    "\n",
    "NUM_STEPS = 365\n",
    "\n",
    "# Max action per sku per warehouse\n",
    "REPLENISHMENT_LIMIT = 10\n",
    "\n",
    "WAREHOUSE_CAP = REPLENISHMENT_LIMIT * NUM_SKUS\n",
    "INIT_INVENTORY = int(0.4 * WAREHOUSE_CAP / NUM_SKUS)"
   ]
  },
  {
   "cell_type": "code",
   "execution_count": 2,
   "metadata": {},
   "outputs": [
    {
     "name": "stdout",
     "output_type": "stream",
     "text": [
      "Dan has been doing very well this semester!\n"
     ]
    }
   ],
   "source": [
    "print(f\"{NAME} has been doing very well this semester!\")"
   ]
  },
  {
   "cell_type": "code",
   "execution_count": null,
   "metadata": {},
   "outputs": [],
   "source": []
  }
 ],
 "metadata": {
  "celltoolbar": "Tags",
  "kernelspec": {
   "display_name": "Python 3",
   "language": "python",
   "name": "python3"
  },
  "language_info": {
   "codemirror_mode": {
    "name": "ipython",
    "version": 3
   },
   "file_extension": ".py",
   "mimetype": "text/x-python",
   "name": "python",
   "nbconvert_exporter": "python",
   "pygments_lexer": "ipython3",
   "version": "3.6.2"
  }
 },
 "nbformat": 4,
 "nbformat_minor": 4
}
